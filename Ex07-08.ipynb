{
 "cells": [
  {
   "cell_type": "markdown",
   "metadata": {},
   "source": [
    "# OS11 - Exercises 7-8"
   ]
  },
  {
   "cell_type": "code",
   "execution_count": 1,
   "metadata": {},
   "outputs": [],
   "source": [
    "from sympy import *"
   ]
  },
  {
   "cell_type": "code",
   "execution_count": 2,
   "metadata": {},
   "outputs": [],
   "source": [
    "import numpy as np"
   ]
  },
  {
   "cell_type": "code",
   "execution_count": 3,
   "metadata": {},
   "outputs": [],
   "source": [
    "import scipy.linalg as linalg"
   ]
  },
  {
   "cell_type": "code",
   "execution_count": 4,
   "metadata": {},
   "outputs": [],
   "source": [
    "from scipy.optimize import linprog"
   ]
  },
  {
   "cell_type": "markdown",
   "metadata": {},
   "source": [
    "### Previous functions useful here"
   ]
  },
  {
   "cell_type": "code",
   "execution_count": 7,
   "metadata": {},
   "outputs": [],
   "source": [
    "def nodes_indexer(named_nodes):\n",
    "    nodes = {}\n",
    "    for i in range(len(named_nodes)):\n",
    "        nodes[named_nodes[i]] = i\n",
    "    return nodes"
   ]
  },
  {
   "cell_type": "code",
   "execution_count": 83,
   "metadata": {},
   "outputs": [],
   "source": [
    "def ANMatrix_from_arcs(graph, num_nodes):\n",
    "    num_arcs = len(graph)\n",
    "    arcs = []\n",
    "    MN = np.zeros((num_nodes, num_arcs)).astype(int)\n",
    "    for a in range(len(graph)):\n",
    "        MN[graph[a][0][0], a] = 1\n",
    "        MN[graph[a][0][1], a] = -1\n",
    "        arcs.append(graph[a][0])\n",
    "    return MN"
   ]
  },
  {
   "cell_type": "code",
   "execution_count": null,
   "metadata": {},
   "outputs": [],
   "source": []
  },
  {
   "cell_type": "markdown",
   "metadata": {},
   "source": [
    "## Ex. 7 - Evacuation plan "
   ]
  },
  {
   "cell_type": "code",
   "execution_count": 128,
   "metadata": {},
   "outputs": [],
   "source": [
    "named_nodes = ['s', 'a', 'b', 't']   #node enumeration. Can be any non repeated inmutable."
   ]
  },
  {
   "cell_type": "code",
   "execution_count": 129,
   "metadata": {},
   "outputs": [],
   "source": [
    "nodes = nodes_indexer(named_nodes)"
   ]
  },
  {
   "cell_type": "code",
   "execution_count": 130,
   "metadata": {},
   "outputs": [
    {
     "data": {
      "text/plain": [
       "[(('s', 'a'), (5, 1)),\n",
       " (('s', 'b'), (10, 3)),\n",
       " (('a', 't'), (3, 1)),\n",
       " (('a', 'b'), (6, 2)),\n",
       " (('b', 't'), (3, 1))]"
      ]
     },
     "execution_count": 130,
     "metadata": {},
     "output_type": "execute_result"
    }
   ],
   "source": [
    "timed_graph = []\n",
    "\n",
    "timed_graph.append((('s', 'a'), (5,1)))   #capacidad, tiempo\n",
    "timed_graph.append((('s', 'b'), (10,3)))\n",
    "timed_graph.append((('a', 't'), (3,1)))\n",
    "timed_graph.append((('a', 'b'), (6,2)))\n",
    "timed_graph.append((('b', 't'), (3,1)))\n",
    "\n",
    "timed_graph\n"
   ]
  },
  {
   "cell_type": "markdown",
   "metadata": {},
   "source": [
    "### Time Expansion"
   ]
  },
  {
   "cell_type": "markdown",
   "metadata": {},
   "source": [
    "I will create new time-derived nodes"
   ]
  },
  {
   "cell_type": "code",
   "execution_count": 131,
   "metadata": {},
   "outputs": [],
   "source": [
    "t_horizon = 6"
   ]
  },
  {
   "cell_type": "code",
   "execution_count": 132,
   "metadata": {},
   "outputs": [],
   "source": [
    "t_named_nodes = [str(n) + '_' + str(i) for n in named_nodes for i in range(t_horizon)]\n",
    "t_named_nodes.append('s')\n",
    "t_named_nodes.append('t')"
   ]
  },
  {
   "cell_type": "code",
   "execution_count": 133,
   "metadata": {},
   "outputs": [],
   "source": [
    "t_nodes = nodes_indexer(t_named_nodes)"
   ]
  },
  {
   "cell_type": "markdown",
   "metadata": {},
   "source": [
    "Now, for each arc, I will \"translate on time\":"
   ]
  },
  {
   "cell_type": "code",
   "execution_count": 134,
   "metadata": {},
   "outputs": [],
   "source": [
    "graph = []\n",
    "\n",
    "for arc in timed_graph:\n",
    "    for t in range(t_horizon):\n",
    "        t_dest = t + arc[1][1]\n",
    "        if t_dest < t_horizon:\n",
    "            n_origen = arc[0][0] + '_' + str(t)\n",
    "            n_dest = arc[0][1] + '_' + str(t_dest)\n",
    "            n_cost = arc[1][0]\n",
    "            graph.append(((n_origen, n_dest), n_cost))"
   ]
  },
  {
   "cell_type": "code",
   "execution_count": 135,
   "metadata": {},
   "outputs": [
    {
     "data": {
      "text/plain": [
       "[(('s_0', 'a_1'), 5),\n",
       " (('s_1', 'a_2'), 5),\n",
       " (('s_2', 'a_3'), 5),\n",
       " (('s_3', 'a_4'), 5),\n",
       " (('s_4', 'a_5'), 5),\n",
       " (('s_0', 'b_3'), 10),\n",
       " (('s_1', 'b_4'), 10),\n",
       " (('s_2', 'b_5'), 10),\n",
       " (('a_0', 't_1'), 3),\n",
       " (('a_1', 't_2'), 3),\n",
       " (('a_2', 't_3'), 3),\n",
       " (('a_3', 't_4'), 3),\n",
       " (('a_4', 't_5'), 3),\n",
       " (('a_0', 'b_2'), 6),\n",
       " (('a_1', 'b_3'), 6),\n",
       " (('a_2', 'b_4'), 6),\n",
       " (('a_3', 'b_5'), 6),\n",
       " (('b_0', 't_1'), 3),\n",
       " (('b_1', 't_2'), 3),\n",
       " (('b_2', 't_3'), 3),\n",
       " (('b_3', 't_4'), 3),\n",
       " (('b_4', 't_5'), 3)]"
      ]
     },
     "execution_count": 135,
     "metadata": {},
     "output_type": "execute_result"
    }
   ],
   "source": [
    "graph"
   ]
  },
  {
   "cell_type": "markdown",
   "metadata": {},
   "source": [
    "Graph is actually incomplete. We must add node s and t, and related arcs."
   ]
  },
  {
   "cell_type": "code",
   "execution_count": 136,
   "metadata": {},
   "outputs": [
    {
     "data": {
      "text/plain": [
       "[(('s_0', 'a_1'), 5),\n",
       " (('s_1', 'a_2'), 5),\n",
       " (('s_2', 'a_3'), 5),\n",
       " (('s_3', 'a_4'), 5),\n",
       " (('s_4', 'a_5'), 5),\n",
       " (('s_0', 'b_3'), 10),\n",
       " (('s_1', 'b_4'), 10),\n",
       " (('s_2', 'b_5'), 10),\n",
       " (('a_0', 't_1'), 3),\n",
       " (('a_1', 't_2'), 3),\n",
       " (('a_2', 't_3'), 3),\n",
       " (('a_3', 't_4'), 3),\n",
       " (('a_4', 't_5'), 3),\n",
       " (('a_0', 'b_2'), 6),\n",
       " (('a_1', 'b_3'), 6),\n",
       " (('a_2', 'b_4'), 6),\n",
       " (('a_3', 'b_5'), 6),\n",
       " (('b_0', 't_1'), 3),\n",
       " (('b_1', 't_2'), 3),\n",
       " (('b_2', 't_3'), 3),\n",
       " (('b_3', 't_4'), 3),\n",
       " (('b_4', 't_5'), 3),\n",
       " (('s', 's_0'), None),\n",
       " (('t_0', 't'), None),\n",
       " (('s', 's_1'), None),\n",
       " (('t_1', 't'), None),\n",
       " (('s', 's_2'), None),\n",
       " (('t_2', 't'), None),\n",
       " (('s', 's_3'), None),\n",
       " (('t_3', 't'), None),\n",
       " (('s', 's_4'), None),\n",
       " (('t_4', 't'), None),\n",
       " (('s', 's_5'), None),\n",
       " (('t_5', 't'), None),\n",
       " (('t', 's'), None)]"
      ]
     },
     "execution_count": 136,
     "metadata": {},
     "output_type": "execute_result"
    }
   ],
   "source": [
    "for t in range(t_horizon):\n",
    "    graph.append((('s', 's_' + str(t)), None))\n",
    "    graph.append((('t_' + str(t), 't'), None))\n",
    "\n",
    "graph.append((('t', 's'), None))\n",
    "\n",
    "graph"
   ]
  },
  {
   "cell_type": "markdown",
   "metadata": {},
   "source": [
    "Graph data is in named form, I need in indexed form:"
   ]
  },
  {
   "cell_type": "code",
   "execution_count": 137,
   "metadata": {},
   "outputs": [
    {
     "data": {
      "text/plain": [
       "[((0, 7), 5),\n",
       " ((1, 8), 5),\n",
       " ((2, 9), 5),\n",
       " ((3, 10), 5),\n",
       " ((4, 11), 5),\n",
       " ((0, 15), 10),\n",
       " ((1, 16), 10),\n",
       " ((2, 17), 10),\n",
       " ((6, 19), 3),\n",
       " ((7, 20), 3),\n",
       " ((8, 21), 3),\n",
       " ((9, 22), 3),\n",
       " ((10, 23), 3),\n",
       " ((6, 14), 6),\n",
       " ((7, 15), 6),\n",
       " ((8, 16), 6),\n",
       " ((9, 17), 6),\n",
       " ((12, 19), 3),\n",
       " ((13, 20), 3),\n",
       " ((14, 21), 3),\n",
       " ((15, 22), 3),\n",
       " ((16, 23), 3),\n",
       " ((24, 0), None),\n",
       " ((18, 25), None),\n",
       " ((24, 1), None),\n",
       " ((19, 25), None),\n",
       " ((24, 2), None),\n",
       " ((20, 25), None),\n",
       " ((24, 3), None),\n",
       " ((21, 25), None),\n",
       " ((24, 4), None),\n",
       " ((22, 25), None),\n",
       " ((24, 5), None),\n",
       " ((23, 25), None),\n",
       " ((25, 24), None)]"
      ]
     },
     "execution_count": 137,
     "metadata": {},
     "output_type": "execute_result"
    }
   ],
   "source": [
    "indexed_graph = [((t_nodes[a[0][0]], t_nodes[a[0][1]]), a[1]) for a in graph]\n",
    "indexed_graph"
   ]
  },
  {
   "cell_type": "markdown",
   "metadata": {},
   "source": [
    "Now, I can create the arcs-nodes matrix"
   ]
  },
  {
   "cell_type": "code",
   "execution_count": 138,
   "metadata": {},
   "outputs": [
    {
     "data": {
      "text/plain": [
       "array([[ 1,  0,  0,  0,  0,  1,  0,  0,  0,  0,  0,  0,  0,  0,  0,  0,\n",
       "         0,  0,  0,  0,  0,  0, -1,  0,  0,  0,  0,  0,  0,  0,  0,  0,\n",
       "         0,  0,  0],\n",
       "       [ 0,  1,  0,  0,  0,  0,  1,  0,  0,  0,  0,  0,  0,  0,  0,  0,\n",
       "         0,  0,  0,  0,  0,  0,  0,  0, -1,  0,  0,  0,  0,  0,  0,  0,\n",
       "         0,  0,  0],\n",
       "       [ 0,  0,  1,  0,  0,  0,  0,  1,  0,  0,  0,  0,  0,  0,  0,  0,\n",
       "         0,  0,  0,  0,  0,  0,  0,  0,  0,  0, -1,  0,  0,  0,  0,  0,\n",
       "         0,  0,  0],\n",
       "       [ 0,  0,  0,  1,  0,  0,  0,  0,  0,  0,  0,  0,  0,  0,  0,  0,\n",
       "         0,  0,  0,  0,  0,  0,  0,  0,  0,  0,  0,  0, -1,  0,  0,  0,\n",
       "         0,  0,  0],\n",
       "       [ 0,  0,  0,  0,  1,  0,  0,  0,  0,  0,  0,  0,  0,  0,  0,  0,\n",
       "         0,  0,  0,  0,  0,  0,  0,  0,  0,  0,  0,  0,  0,  0, -1,  0,\n",
       "         0,  0,  0],\n",
       "       [ 0,  0,  0,  0,  0,  0,  0,  0,  0,  0,  0,  0,  0,  0,  0,  0,\n",
       "         0,  0,  0,  0,  0,  0,  0,  0,  0,  0,  0,  0,  0,  0,  0,  0,\n",
       "        -1,  0,  0],\n",
       "       [ 0,  0,  0,  0,  0,  0,  0,  0,  1,  0,  0,  0,  0,  1,  0,  0,\n",
       "         0,  0,  0,  0,  0,  0,  0,  0,  0,  0,  0,  0,  0,  0,  0,  0,\n",
       "         0,  0,  0],\n",
       "       [-1,  0,  0,  0,  0,  0,  0,  0,  0,  1,  0,  0,  0,  0,  1,  0,\n",
       "         0,  0,  0,  0,  0,  0,  0,  0,  0,  0,  0,  0,  0,  0,  0,  0,\n",
       "         0,  0,  0],\n",
       "       [ 0, -1,  0,  0,  0,  0,  0,  0,  0,  0,  1,  0,  0,  0,  0,  1,\n",
       "         0,  0,  0,  0,  0,  0,  0,  0,  0,  0,  0,  0,  0,  0,  0,  0,\n",
       "         0,  0,  0],\n",
       "       [ 0,  0, -1,  0,  0,  0,  0,  0,  0,  0,  0,  1,  0,  0,  0,  0,\n",
       "         1,  0,  0,  0,  0,  0,  0,  0,  0,  0,  0,  0,  0,  0,  0,  0,\n",
       "         0,  0,  0],\n",
       "       [ 0,  0,  0, -1,  0,  0,  0,  0,  0,  0,  0,  0,  1,  0,  0,  0,\n",
       "         0,  0,  0,  0,  0,  0,  0,  0,  0,  0,  0,  0,  0,  0,  0,  0,\n",
       "         0,  0,  0],\n",
       "       [ 0,  0,  0,  0, -1,  0,  0,  0,  0,  0,  0,  0,  0,  0,  0,  0,\n",
       "         0,  0,  0,  0,  0,  0,  0,  0,  0,  0,  0,  0,  0,  0,  0,  0,\n",
       "         0,  0,  0],\n",
       "       [ 0,  0,  0,  0,  0,  0,  0,  0,  0,  0,  0,  0,  0,  0,  0,  0,\n",
       "         0,  1,  0,  0,  0,  0,  0,  0,  0,  0,  0,  0,  0,  0,  0,  0,\n",
       "         0,  0,  0],\n",
       "       [ 0,  0,  0,  0,  0,  0,  0,  0,  0,  0,  0,  0,  0,  0,  0,  0,\n",
       "         0,  0,  1,  0,  0,  0,  0,  0,  0,  0,  0,  0,  0,  0,  0,  0,\n",
       "         0,  0,  0],\n",
       "       [ 0,  0,  0,  0,  0,  0,  0,  0,  0,  0,  0,  0,  0, -1,  0,  0,\n",
       "         0,  0,  0,  1,  0,  0,  0,  0,  0,  0,  0,  0,  0,  0,  0,  0,\n",
       "         0,  0,  0],\n",
       "       [ 0,  0,  0,  0,  0, -1,  0,  0,  0,  0,  0,  0,  0,  0, -1,  0,\n",
       "         0,  0,  0,  0,  1,  0,  0,  0,  0,  0,  0,  0,  0,  0,  0,  0,\n",
       "         0,  0,  0],\n",
       "       [ 0,  0,  0,  0,  0,  0, -1,  0,  0,  0,  0,  0,  0,  0,  0, -1,\n",
       "         0,  0,  0,  0,  0,  1,  0,  0,  0,  0,  0,  0,  0,  0,  0,  0,\n",
       "         0,  0,  0],\n",
       "       [ 0,  0,  0,  0,  0,  0,  0, -1,  0,  0,  0,  0,  0,  0,  0,  0,\n",
       "        -1,  0,  0,  0,  0,  0,  0,  0,  0,  0,  0,  0,  0,  0,  0,  0,\n",
       "         0,  0,  0],\n",
       "       [ 0,  0,  0,  0,  0,  0,  0,  0,  0,  0,  0,  0,  0,  0,  0,  0,\n",
       "         0,  0,  0,  0,  0,  0,  0,  1,  0,  0,  0,  0,  0,  0,  0,  0,\n",
       "         0,  0,  0],\n",
       "       [ 0,  0,  0,  0,  0,  0,  0,  0, -1,  0,  0,  0,  0,  0,  0,  0,\n",
       "         0, -1,  0,  0,  0,  0,  0,  0,  0,  1,  0,  0,  0,  0,  0,  0,\n",
       "         0,  0,  0],\n",
       "       [ 0,  0,  0,  0,  0,  0,  0,  0,  0, -1,  0,  0,  0,  0,  0,  0,\n",
       "         0,  0, -1,  0,  0,  0,  0,  0,  0,  0,  0,  1,  0,  0,  0,  0,\n",
       "         0,  0,  0],\n",
       "       [ 0,  0,  0,  0,  0,  0,  0,  0,  0,  0, -1,  0,  0,  0,  0,  0,\n",
       "         0,  0,  0, -1,  0,  0,  0,  0,  0,  0,  0,  0,  0,  1,  0,  0,\n",
       "         0,  0,  0],\n",
       "       [ 0,  0,  0,  0,  0,  0,  0,  0,  0,  0,  0, -1,  0,  0,  0,  0,\n",
       "         0,  0,  0,  0, -1,  0,  0,  0,  0,  0,  0,  0,  0,  0,  0,  1,\n",
       "         0,  0,  0],\n",
       "       [ 0,  0,  0,  0,  0,  0,  0,  0,  0,  0,  0,  0, -1,  0,  0,  0,\n",
       "         0,  0,  0,  0,  0, -1,  0,  0,  0,  0,  0,  0,  0,  0,  0,  0,\n",
       "         0,  1,  0],\n",
       "       [ 0,  0,  0,  0,  0,  0,  0,  0,  0,  0,  0,  0,  0,  0,  0,  0,\n",
       "         0,  0,  0,  0,  0,  0,  1,  0,  1,  0,  1,  0,  1,  0,  1,  0,\n",
       "         1,  0, -1],\n",
       "       [ 0,  0,  0,  0,  0,  0,  0,  0,  0,  0,  0,  0,  0,  0,  0,  0,\n",
       "         0,  0,  0,  0,  0,  0,  0, -1,  0, -1,  0, -1,  0, -1,  0, -1,\n",
       "         0, -1,  1]])"
      ]
     },
     "execution_count": 138,
     "metadata": {},
     "output_type": "execute_result"
    }
   ],
   "source": [
    "A = ANMatrix_from_arcs(indexed_graph, len(t_nodes))\n",
    "A"
   ]
  },
  {
   "cell_type": "markdown",
   "metadata": {},
   "source": [
    "Cost function:"
   ]
  },
  {
   "cell_type": "code",
   "execution_count": 139,
   "metadata": {},
   "outputs": [
    {
     "data": {
      "text/plain": [
       "array([ 0.,  0.,  0.,  0.,  0.,  0.,  0.,  0.,  0.,  0.,  0.,  0.,  0.,\n",
       "        0.,  0.,  0.,  0.,  0.,  0.,  0.,  0.,  0.,  0.,  0.,  0.,  0.,\n",
       "        0.,  0.,  0.,  0.,  0.,  0.,  0.,  0., -1.])"
      ]
     },
     "execution_count": 139,
     "metadata": {},
     "output_type": "execute_result"
    }
   ],
   "source": [
    "c = np.zeros((len(graph)))\n",
    "c[-1]=-1\n",
    "c"
   ]
  },
  {
   "cell_type": "markdown",
   "metadata": {},
   "source": [
    "El verctor de igualdades b:\n",
    "    "
   ]
  },
  {
   "cell_type": "code",
   "execution_count": 140,
   "metadata": {},
   "outputs": [
    {
     "data": {
      "text/plain": [
       "array([0., 0., 0., 0., 0., 0., 0., 0., 0., 0., 0., 0., 0., 0., 0., 0., 0.,\n",
       "       0., 0., 0., 0., 0., 0., 0., 0., 0.])"
      ]
     },
     "execution_count": 140,
     "metadata": {},
     "output_type": "execute_result"
    }
   ],
   "source": [
    "b = np.zeros((len(t_nodes)))\n",
    "b"
   ]
  },
  {
   "cell_type": "markdown",
   "metadata": {},
   "source": [
    "Límites para cada arco:"
   ]
  },
  {
   "cell_type": "code",
   "execution_count": 141,
   "metadata": {},
   "outputs": [
    {
     "data": {
      "text/plain": [
       "[(0, 5),\n",
       " (0, 5),\n",
       " (0, 5),\n",
       " (0, 5),\n",
       " (0, 5),\n",
       " (0, 10),\n",
       " (0, 10),\n",
       " (0, 10),\n",
       " (0, 3),\n",
       " (0, 3),\n",
       " (0, 3),\n",
       " (0, 3),\n",
       " (0, 3),\n",
       " (0, 6),\n",
       " (0, 6),\n",
       " (0, 6),\n",
       " (0, 6),\n",
       " (0, 3),\n",
       " (0, 3),\n",
       " (0, 3),\n",
       " (0, 3),\n",
       " (0, 3),\n",
       " (0, None),\n",
       " (0, None),\n",
       " (0, None),\n",
       " (0, None),\n",
       " (0, None),\n",
       " (0, None),\n",
       " (0, None),\n",
       " (0, None),\n",
       " (0, None),\n",
       " (0, None),\n",
       " (0, None),\n",
       " (0, None),\n",
       " (0, None)]"
      ]
     },
     "execution_count": 141,
     "metadata": {},
     "output_type": "execute_result"
    }
   ],
   "source": [
    "limites = [(0, a[1]) for a in graph]\n",
    "limites"
   ]
  },
  {
   "cell_type": "markdown",
   "metadata": {},
   "source": [
    "### Resolution"
   ]
  },
  {
   "cell_type": "code",
   "execution_count": 142,
   "metadata": {},
   "outputs": [
    {
     "name": "stderr",
     "output_type": "stream",
     "text": [
      "<ipython-input-142-62916b0d23f2>:1: OptimizeWarning: A_eq does not appear to be of full row rank. To improve performance, check the problem formulation for redundant equality constraints.\n",
      "  r = linprog(c=c, A_eq = A, b_eq = b, bounds = limites, method='revised simplex')\n"
     ]
    }
   ],
   "source": [
    "r = linprog(c=c, A_eq = A, b_eq = b, bounds = limites, method='revised simplex')"
   ]
  },
  {
   "cell_type": "code",
   "execution_count": 143,
   "metadata": {
    "jupyter": {
     "source_hidden": true
    }
   },
   "outputs": [
    {
     "data": {
      "text/plain": [
       "     con: array([0., 0., 0., 0., 0., 0., 0., 0., 0., 0., 0., 0., 0., 0., 0., 0., 0.,\n",
       "       0., 0., 0., 0., 0., 0., 0., 0., 0.])\n",
       "     fun: -18.0\n",
       " message: 'Optimization terminated successfully.'\n",
       "     nit: 19\n",
       "   slack: array([], dtype=float64)\n",
       "  status: 0\n",
       " success: True\n",
       "       x: array([ 3.,  3.,  3.,  3., -0.,  3.,  3.,  0.,  0.,  3.,  3.,  3.,  3.,\n",
       "        0.,  0.,  0.,  0.,  0.,  0.,  0.,  3.,  3.,  6.,  0.,  6.,  0.,\n",
       "        3.,  3.,  3.,  3.,  0.,  6., -0.,  6., 18.])"
      ]
     },
     "execution_count": 143,
     "metadata": {},
     "output_type": "execute_result"
    }
   ],
   "source": [
    "r"
   ]
  },
  {
   "cell_type": "markdown",
   "metadata": {},
   "source": [
    "### Results"
   ]
  },
  {
   "cell_type": "markdown",
   "metadata": {},
   "source": [
    "Flow across the graph on t=6:"
   ]
  },
  {
   "cell_type": "code",
   "execution_count": 148,
   "metadata": {},
   "outputs": [
    {
     "data": {
      "text/plain": [
       "18.0"
      ]
     },
     "execution_count": 148,
     "metadata": {},
     "output_type": "execute_result"
    }
   ],
   "source": [
    "r.x[-1]"
   ]
  },
  {
   "cell_type": "markdown",
   "metadata": {},
   "source": [
    "## Ex. 8 - Transshipment Problem"
   ]
  },
  {
   "cell_type": "code",
   "execution_count": 156,
   "metadata": {},
   "outputs": [],
   "source": [
    "named_nodes = ['P1', 'P2', 'P3', 'S1', 'S2', 'D1', 'D2', 'D3']   #node enumeration. Can be any non repeated inmutable."
   ]
  },
  {
   "cell_type": "code",
   "execution_count": 157,
   "metadata": {},
   "outputs": [
    {
     "data": {
      "text/plain": [
       "[(('P1', 'S1'), (100, 200)),\n",
       " (('P1', 'S2'), (100, 200)),\n",
       " (('P2', 'S1'), (150, 150)),\n",
       " (('P2', 'S2'), (150, 150)),\n",
       " (('P3', 'S1'), (200, 100)),\n",
       " (('P3', 'S2'), (200, 100)),\n",
       " (('S1', 'D1'), (100, 200)),\n",
       " (('S2', 'D1'), (100, 200)),\n",
       " (('S1', 'D2'), (150, 150)),\n",
       " (('S2', 'D2'), (150, 150)),\n",
       " (('S1', 'D3'), (200, 100)),\n",
       " (('S2', 'D3'), (200, 100))]"
      ]
     },
     "execution_count": 157,
     "metadata": {},
     "output_type": "execute_result"
    }
   ],
   "source": [
    "gen_graph = []\n",
    "\n",
    "gen_graph.append((('P1', 'S1'), (100,200)))   #costo A, costo B\n",
    "gen_graph.append((('P1', 'S2'), (100,200)))\n",
    "gen_graph.append((('P2', 'S1'), (150,150)))\n",
    "gen_graph.append((('P2', 'S2'), (150,150)))\n",
    "gen_graph.append((('P3', 'S1'), (200,100)))\n",
    "gen_graph.append((('P3', 'S2'), (200,100)))\n",
    "\n",
    "gen_graph.append((('S1', 'D1'), (100,200)))\n",
    "gen_graph.append((('S2', 'D1'), (100,200)))\n",
    "gen_graph.append((('S1', 'D2'), (150,150)))\n",
    "gen_graph.append((('S2', 'D2'), (150,150)))\n",
    "gen_graph.append((('S1', 'D3'), (200,100)))\n",
    "gen_graph.append((('S2', 'D3'), (200,100)))\n",
    "\n",
    "gen_graph"
   ]
  },
  {
   "cell_type": "markdown",
   "metadata": {},
   "source": [
    "Produccion:"
   ]
  },
  {
   "cell_type": "code",
   "execution_count": 158,
   "metadata": {},
   "outputs": [],
   "source": [
    "Prod = {'P1': (20, 30), 'P2': (10, 40), 'P3': (30, 10)}"
   ]
  },
  {
   "cell_type": "markdown",
   "metadata": {},
   "source": [
    "Demandas:"
   ]
  },
  {
   "cell_type": "code",
   "execution_count": 159,
   "metadata": {},
   "outputs": [],
   "source": [
    "Dem = {'D1': (-30, -40), 'D2': (-10, -20), 'D3': (-20, -20)}"
   ]
  },
  {
   "cell_type": "markdown",
   "metadata": {},
   "source": [
    "Balances intermedios:"
   ]
  },
  {
   "cell_type": "code",
   "execution_count": 160,
   "metadata": {},
   "outputs": [],
   "source": [
    "Depositos = {'S1': (0,0), 'S2':(0,0) }"
   ]
  },
  {
   "cell_type": "markdown",
   "metadata": {},
   "source": [
    "### Product Expansion"
   ]
  },
  {
   "cell_type": "markdown",
   "metadata": {},
   "source": [
    "I will duplicate nodes and graph for each product"
   ]
  },
  {
   "cell_type": "code",
   "execution_count": 161,
   "metadata": {},
   "outputs": [],
   "source": [
    "products = ['A', 'B']"
   ]
  },
  {
   "cell_type": "code",
   "execution_count": 162,
   "metadata": {},
   "outputs": [
    {
     "data": {
      "text/plain": [
       "['P1_A',\n",
       " 'P1_B',\n",
       " 'P2_A',\n",
       " 'P2_B',\n",
       " 'P3_A',\n",
       " 'P3_B',\n",
       " 'S1_A',\n",
       " 'S1_B',\n",
       " 'S2_A',\n",
       " 'S2_B',\n",
       " 'D1_A',\n",
       " 'D1_B',\n",
       " 'D2_A',\n",
       " 'D2_B',\n",
       " 'D3_A',\n",
       " 'D3_B']"
      ]
     },
     "execution_count": 162,
     "metadata": {},
     "output_type": "execute_result"
    }
   ],
   "source": [
    "p_named_nodes = [str(n) + '_' + str(i) for n in named_nodes for i in products]\n",
    "p_named_nodes"
   ]
  },
  {
   "cell_type": "code",
   "execution_count": 163,
   "metadata": {},
   "outputs": [],
   "source": [
    "p_nodes = nodes_indexer(p_named_nodes)"
   ]
  },
  {
   "cell_type": "markdown",
   "metadata": {},
   "source": [
    "Now, for each arc, I will duplicate on product:"
   ]
  },
  {
   "cell_type": "code",
   "execution_count": 165,
   "metadata": {},
   "outputs": [],
   "source": [
    "graph = []\n",
    "\n",
    "for arc in gen_graph:\n",
    "    for i in range(len(products)):\n",
    "        p = products[i]\n",
    "        n_origen = arc[0][0] + '_' + str(p)\n",
    "        n_dest = arc[0][1] + '_' + str(p)\n",
    "        n_cost = arc[1][i]\n",
    "        graph.append(((n_origen, n_dest), n_cost))"
   ]
  },
  {
   "cell_type": "code",
   "execution_count": 166,
   "metadata": {},
   "outputs": [
    {
     "data": {
      "text/plain": [
       "[(('P1_A', 'S1_A'), 100),\n",
       " (('P1_B', 'S1_B'), 200),\n",
       " (('P1_A', 'S2_A'), 100),\n",
       " (('P1_B', 'S2_B'), 200),\n",
       " (('P2_A', 'S1_A'), 150),\n",
       " (('P2_B', 'S1_B'), 150),\n",
       " (('P2_A', 'S2_A'), 150),\n",
       " (('P2_B', 'S2_B'), 150),\n",
       " (('P3_A', 'S1_A'), 200),\n",
       " (('P3_B', 'S1_B'), 100),\n",
       " (('P3_A', 'S2_A'), 200),\n",
       " (('P3_B', 'S2_B'), 100),\n",
       " (('S1_A', 'D1_A'), 100),\n",
       " (('S1_B', 'D1_B'), 200),\n",
       " (('S2_A', 'D1_A'), 100),\n",
       " (('S2_B', 'D1_B'), 200),\n",
       " (('S1_A', 'D2_A'), 150),\n",
       " (('S1_B', 'D2_B'), 150),\n",
       " (('S2_A', 'D2_A'), 150),\n",
       " (('S2_B', 'D2_B'), 150),\n",
       " (('S1_A', 'D3_A'), 200),\n",
       " (('S1_B', 'D3_B'), 100),\n",
       " (('S2_A', 'D3_A'), 200),\n",
       " (('S2_B', 'D3_B'), 100)]"
      ]
     },
     "execution_count": 166,
     "metadata": {},
     "output_type": "execute_result"
    }
   ],
   "source": [
    "graph"
   ]
  },
  {
   "cell_type": "markdown",
   "metadata": {},
   "source": [
    "Graph data is in named form, I need in indexed form:"
   ]
  },
  {
   "cell_type": "code",
   "execution_count": 167,
   "metadata": {},
   "outputs": [
    {
     "data": {
      "text/plain": [
       "[((0, 6), 100),\n",
       " ((1, 7), 200),\n",
       " ((0, 8), 100),\n",
       " ((1, 9), 200),\n",
       " ((2, 6), 150),\n",
       " ((3, 7), 150),\n",
       " ((2, 8), 150),\n",
       " ((3, 9), 150),\n",
       " ((4, 6), 200),\n",
       " ((5, 7), 100),\n",
       " ((4, 8), 200),\n",
       " ((5, 9), 100),\n",
       " ((6, 10), 100),\n",
       " ((7, 11), 200),\n",
       " ((8, 10), 100),\n",
       " ((9, 11), 200),\n",
       " ((6, 12), 150),\n",
       " ((7, 13), 150),\n",
       " ((8, 12), 150),\n",
       " ((9, 13), 150),\n",
       " ((6, 14), 200),\n",
       " ((7, 15), 100),\n",
       " ((8, 14), 200),\n",
       " ((9, 15), 100)]"
      ]
     },
     "execution_count": 167,
     "metadata": {},
     "output_type": "execute_result"
    }
   ],
   "source": [
    "indexed_graph = [((p_nodes[a[0][0]], p_nodes[a[0][1]]), a[1]) for a in graph]\n",
    "indexed_graph"
   ]
  },
  {
   "cell_type": "markdown",
   "metadata": {},
   "source": [
    "Now, I can create the arcs-nodes matrix"
   ]
  },
  {
   "cell_type": "code",
   "execution_count": 169,
   "metadata": {},
   "outputs": [
    {
     "data": {
      "text/plain": [
       "array([[ 1,  0,  1,  0,  0,  0,  0,  0,  0,  0,  0,  0,  0,  0,  0,  0,\n",
       "         0,  0,  0,  0,  0,  0,  0,  0],\n",
       "       [ 0,  1,  0,  1,  0,  0,  0,  0,  0,  0,  0,  0,  0,  0,  0,  0,\n",
       "         0,  0,  0,  0,  0,  0,  0,  0],\n",
       "       [ 0,  0,  0,  0,  1,  0,  1,  0,  0,  0,  0,  0,  0,  0,  0,  0,\n",
       "         0,  0,  0,  0,  0,  0,  0,  0],\n",
       "       [ 0,  0,  0,  0,  0,  1,  0,  1,  0,  0,  0,  0,  0,  0,  0,  0,\n",
       "         0,  0,  0,  0,  0,  0,  0,  0],\n",
       "       [ 0,  0,  0,  0,  0,  0,  0,  0,  1,  0,  1,  0,  0,  0,  0,  0,\n",
       "         0,  0,  0,  0,  0,  0,  0,  0],\n",
       "       [ 0,  0,  0,  0,  0,  0,  0,  0,  0,  1,  0,  1,  0,  0,  0,  0,\n",
       "         0,  0,  0,  0,  0,  0,  0,  0],\n",
       "       [-1,  0,  0,  0, -1,  0,  0,  0, -1,  0,  0,  0,  1,  0,  0,  0,\n",
       "         1,  0,  0,  0,  1,  0,  0,  0],\n",
       "       [ 0, -1,  0,  0,  0, -1,  0,  0,  0, -1,  0,  0,  0,  1,  0,  0,\n",
       "         0,  1,  0,  0,  0,  1,  0,  0],\n",
       "       [ 0,  0, -1,  0,  0,  0, -1,  0,  0,  0, -1,  0,  0,  0,  1,  0,\n",
       "         0,  0,  1,  0,  0,  0,  1,  0],\n",
       "       [ 0,  0,  0, -1,  0,  0,  0, -1,  0,  0,  0, -1,  0,  0,  0,  1,\n",
       "         0,  0,  0,  1,  0,  0,  0,  1],\n",
       "       [ 0,  0,  0,  0,  0,  0,  0,  0,  0,  0,  0,  0, -1,  0, -1,  0,\n",
       "         0,  0,  0,  0,  0,  0,  0,  0],\n",
       "       [ 0,  0,  0,  0,  0,  0,  0,  0,  0,  0,  0,  0,  0, -1,  0, -1,\n",
       "         0,  0,  0,  0,  0,  0,  0,  0],\n",
       "       [ 0,  0,  0,  0,  0,  0,  0,  0,  0,  0,  0,  0,  0,  0,  0,  0,\n",
       "        -1,  0, -1,  0,  0,  0,  0,  0],\n",
       "       [ 0,  0,  0,  0,  0,  0,  0,  0,  0,  0,  0,  0,  0,  0,  0,  0,\n",
       "         0, -1,  0, -1,  0,  0,  0,  0],\n",
       "       [ 0,  0,  0,  0,  0,  0,  0,  0,  0,  0,  0,  0,  0,  0,  0,  0,\n",
       "         0,  0,  0,  0, -1,  0, -1,  0],\n",
       "       [ 0,  0,  0,  0,  0,  0,  0,  0,  0,  0,  0,  0,  0,  0,  0,  0,\n",
       "         0,  0,  0,  0,  0, -1,  0, -1]])"
      ]
     },
     "execution_count": 169,
     "metadata": {},
     "output_type": "execute_result"
    }
   ],
   "source": [
    "A = ANMatrix_from_arcs(indexed_graph, len(p_nodes))\n",
    "A"
   ]
  },
  {
   "cell_type": "markdown",
   "metadata": {},
   "source": [
    "Cost function:"
   ]
  },
  {
   "cell_type": "code",
   "execution_count": 139,
   "metadata": {},
   "outputs": [
    {
     "data": {
      "text/plain": [
       "array([ 0.,  0.,  0.,  0.,  0.,  0.,  0.,  0.,  0.,  0.,  0.,  0.,  0.,\n",
       "        0.,  0.,  0.,  0.,  0.,  0.,  0.,  0.,  0.,  0.,  0.,  0.,  0.,\n",
       "        0.,  0.,  0.,  0.,  0.,  0.,  0.,  0., -1.])"
      ]
     },
     "execution_count": 139,
     "metadata": {},
     "output_type": "execute_result"
    }
   ],
   "source": [
    "c = np.zeros((len(graph)))\n",
    "c[-1]=-1\n",
    "c"
   ]
  },
  {
   "cell_type": "markdown",
   "metadata": {},
   "source": [
    "El verctor de igualdades b:\n",
    "    "
   ]
  },
  {
   "cell_type": "code",
   "execution_count": 140,
   "metadata": {},
   "outputs": [
    {
     "data": {
      "text/plain": [
       "array([0., 0., 0., 0., 0., 0., 0., 0., 0., 0., 0., 0., 0., 0., 0., 0., 0.,\n",
       "       0., 0., 0., 0., 0., 0., 0., 0., 0.])"
      ]
     },
     "execution_count": 140,
     "metadata": {},
     "output_type": "execute_result"
    }
   ],
   "source": [
    "b = np.zeros((len(t_nodes)))\n",
    "b"
   ]
  },
  {
   "cell_type": "markdown",
   "metadata": {},
   "source": [
    "Límites para cada arco:"
   ]
  },
  {
   "cell_type": "code",
   "execution_count": 141,
   "metadata": {},
   "outputs": [
    {
     "data": {
      "text/plain": [
       "[(0, 5),\n",
       " (0, 5),\n",
       " (0, 5),\n",
       " (0, 5),\n",
       " (0, 5),\n",
       " (0, 10),\n",
       " (0, 10),\n",
       " (0, 10),\n",
       " (0, 3),\n",
       " (0, 3),\n",
       " (0, 3),\n",
       " (0, 3),\n",
       " (0, 3),\n",
       " (0, 6),\n",
       " (0, 6),\n",
       " (0, 6),\n",
       " (0, 6),\n",
       " (0, 3),\n",
       " (0, 3),\n",
       " (0, 3),\n",
       " (0, 3),\n",
       " (0, 3),\n",
       " (0, None),\n",
       " (0, None),\n",
       " (0, None),\n",
       " (0, None),\n",
       " (0, None),\n",
       " (0, None),\n",
       " (0, None),\n",
       " (0, None),\n",
       " (0, None),\n",
       " (0, None),\n",
       " (0, None),\n",
       " (0, None),\n",
       " (0, None)]"
      ]
     },
     "execution_count": 141,
     "metadata": {},
     "output_type": "execute_result"
    }
   ],
   "source": [
    "limites = [(0, a[1]) for a in graph]\n",
    "limites"
   ]
  },
  {
   "cell_type": "markdown",
   "metadata": {},
   "source": [
    "### Resolution"
   ]
  },
  {
   "cell_type": "code",
   "execution_count": 142,
   "metadata": {},
   "outputs": [
    {
     "name": "stderr",
     "output_type": "stream",
     "text": [
      "<ipython-input-142-62916b0d23f2>:1: OptimizeWarning: A_eq does not appear to be of full row rank. To improve performance, check the problem formulation for redundant equality constraints.\n",
      "  r = linprog(c=c, A_eq = A, b_eq = b, bounds = limites, method='revised simplex')\n"
     ]
    }
   ],
   "source": [
    "r = linprog(c=c, A_eq = A, b_eq = b, bounds = limites, method='revised simplex')"
   ]
  },
  {
   "cell_type": "code",
   "execution_count": 143,
   "metadata": {
    "jupyter": {
     "source_hidden": true
    }
   },
   "outputs": [
    {
     "data": {
      "text/plain": [
       "     con: array([0., 0., 0., 0., 0., 0., 0., 0., 0., 0., 0., 0., 0., 0., 0., 0., 0.,\n",
       "       0., 0., 0., 0., 0., 0., 0., 0., 0.])\n",
       "     fun: -18.0\n",
       " message: 'Optimization terminated successfully.'\n",
       "     nit: 19\n",
       "   slack: array([], dtype=float64)\n",
       "  status: 0\n",
       " success: True\n",
       "       x: array([ 3.,  3.,  3.,  3., -0.,  3.,  3.,  0.,  0.,  3.,  3.,  3.,  3.,\n",
       "        0.,  0.,  0.,  0.,  0.,  0.,  0.,  3.,  3.,  6.,  0.,  6.,  0.,\n",
       "        3.,  3.,  3.,  3.,  0.,  6., -0.,  6., 18.])"
      ]
     },
     "execution_count": 143,
     "metadata": {},
     "output_type": "execute_result"
    }
   ],
   "source": [
    "r"
   ]
  }
 ],
 "metadata": {
  "kernelspec": {
   "display_name": "Python 3",
   "language": "python",
   "name": "python3"
  },
  "language_info": {
   "codemirror_mode": {
    "name": "ipython",
    "version": 3
   },
   "file_extension": ".py",
   "mimetype": "text/x-python",
   "name": "python",
   "nbconvert_exporter": "python",
   "pygments_lexer": "ipython3",
   "version": "3.8.1"
  }
 },
 "nbformat": 4,
 "nbformat_minor": 4
}
